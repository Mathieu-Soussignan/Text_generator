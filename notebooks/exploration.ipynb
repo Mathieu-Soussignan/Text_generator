{
 "cells": [
  {
   "cell_type": "code",
   "execution_count": 7,
   "metadata": {},
   "outputs": [],
   "source": [
    "# Importation des librairies nécessaires\n",
    "import subprocess\n",
    "\n",
    "# Configuration du modele Ollama\n",
    "model = \"llama2:latest\""
   ]
  },
  {
   "cell_type": "code",
   "execution_count": 2,
   "metadata": {},
   "outputs": [
    {
     "name": "stdout",
     "output_type": "stream",
     "text": [
      "Texte generé :\n",
      "The magician discovered a secret.\n",
      "\n",
      "He had been performing his trickery for years, entertaining audiences with his sleight of hand and illusions. But one day, while preparing for a show, he stumbled upon something unexpected.\n",
      "\n",
      "Hidden behind a panel in his stage was a small key. It was old and worn, but it seemed to hold a secret message. The magician's curiosity was piqued, and he decided to investigate further.\n",
      "\n",
      "He spent the next few days studying the key and trying to decipher its message. It wasn't until the third day that he finally cracked the code. The message read: \"The real magic is in the eyes of those who believe.\"\n",
      "\n",
      "The magician was taken aback by the message. He had always believed that his tricks were the true magic, but now he realized that it was the belief of his audience that held the real power. From that day on, he changed his act to focus more on the emotional connection with his audience, and the response was overwhelmingly positive.\n",
      "\n",
      "People came from far and wide to see him perform, not just for the tricks, but for the sense of wonder and awe that he could evoke in those who believed in the magic of his performances. The magician had discovered a secret that would change his career forever, and he was grateful for the unexpected discovery that had led him to it.\n"
     ]
    }
   ],
   "source": [
    "# Fonction pour tester l'API Ollama\n",
    "\n",
    "def test_ollama(prompt: str, max_length: int = 200):\n",
    "    \n",
    "    try:\n",
    "        result = subprocess.run(\n",
    "            [\"ollama\", \"run\", \"llama2:latest\"],\n",
    "            input=prompt,\n",
    "            stdout=subprocess.PIPE,\n",
    "            stderr=subprocess.PIPE,\n",
    "            text=True\n",
    "        )\n",
    "        if result.returncode == 0:\n",
    "            print(\"Texte generé :\")\n",
    "            print(result.stdout.strip())\n",
    "        else:\n",
    "            print(\"Erreur :\")\n",
    "    except Exception as e:\n",
    "        print(f\"Erreur : {e}\")\n",
    "        \n",
    "# Prompt de test\n",
    "prompt = \"Un magicien découvre un secret.\"\n",
    "\n",
    "# Test de l'API Ollama \n",
    "test_ollama(prompt)"
   ]
  },
  {
   "cell_type": "code",
   "execution_count": 8,
   "metadata": {},
   "outputs": [],
   "source": [
    "import sys\n",
    "from pathlib import Path\n",
    "\n",
    "# Ajouter le chemin racine du projet à sys.path\n",
    "project_root = Path.cwd()  # Si le notebook est dans le dossier du projet\n",
    "sys.path.append(str(project_root / \"app\"))"
   ]
  },
  {
   "cell_type": "code",
   "execution_count": 9,
   "metadata": {},
   "outputs": [
    {
     "name": "stdout",
     "output_type": "stream",
     "text": [
      "llama2:latest\n"
     ]
    }
   ],
   "source": [
    "from core.config import settings\n",
    "\n",
    "# Vérifiez l'accès au contenu de settings\n",
    "print(settings.OLLAMA_MODEL)  # Exemple pour vérifier si le modèle est bien défini"
   ]
  },
  {
   "cell_type": "code",
   "execution_count": 10,
   "metadata": {},
   "outputs": [],
   "source": [
    "def generate_story(prompt: str, max_length: int = 200):\n",
    "    try:\n",
    "        # Directive stricte pour produire uniquement du français\n",
    "        adjusted_prompt = (\n",
    "            f\"Écris une histoire en français, sans utiliser d'autres langues, d'au moins {max_length} mots. \"\n",
    "            f\"Voici le début de l'histoire : {prompt}\"\n",
    "        )\n",
    "        \n",
    "        result = subprocess.run(\n",
    "            [\"ollama\", \"run\", settings.OLLAMA_MODEL],  # Appelle le modèle défini dans config.py\n",
    "            input=adjusted_prompt,  # Envoyer le prompt ajusté au modèle\n",
    "            stdout=subprocess.PIPE,\n",
    "            stderr=subprocess.PIPE,\n",
    "            text=True\n",
    "        )\n",
    "        if result.returncode == 0:\n",
    "            return result.stdout.strip()  # Retourner l'histoire générée\n",
    "        else:\n",
    "            raise Exception(f\"Erreur Ollama CLI : {result.stderr.strip()}\")\n",
    "    except Exception as e:\n",
    "        raise Exception(f\"Erreur lors de la génération de l'histoire : {e}\")"
   ]
  },
  {
   "cell_type": "code",
   "execution_count": 11,
   "metadata": {},
   "outputs": [
    {
     "name": "stdout",
     "output_type": "stream",
     "text": [
      "Histoire générée :\n",
      "Il était une fois un chevalier nommé Jacques, qui combattait un redoutable dragon dans une forêt sombre et mystérieuse. Jacques était armé d'un épée brillante et de son courage insufflé par sa détermination à protéger ses villages de la menace du monstre. Il chevauchait son cheval noir, nommé Blackie, et marchait résolument vers le dragon, qui brillait de son éclatant sourire maléfique.\n",
      "\n",
      "Le dragon, une créature gigantesque avec des ailes vastes comme des montagnes et un corps recouvert de scories écarlates, attendait Jacques dans une caverne sombre et humide. Il grognait doucement en l'air, ses écailles clignotant de manière menaçante. Jacques ne s'émeut pas et continua à avancer, son épée brillante éclairant le passage dans la caverne.\n",
      "\n",
      "Le combat entre Jacques et le dragon dura des heures, les cris et les grognements des deux combattants résonnaient dans la caverne. Jacques utilisait toutes ses forces pour frapper le dragon, mais ce dernier était trop fort et résistait à chaque attaque. Cependant, Jacques n'était pas prêt à abandonner et continua à lutter avec détermination.\n",
      "\n",
      "Finalement, after what seemed like an eternity, Jacques réussit à frapper le dragon à un endroit vulnérable, le détruisant définitivement. Le monstre fit un bruit lugubre en tombant au sol, ses écailles brisées et son sourire maléfique disparu pour toujours. Jacques, épuisé mais triomphant, regardaBlackie qui lui servait de monture, et se dit qu'il avait bien mérité de l'honneur et de la reconnaissance de ses villages.\n",
      "\n",
      "Le lendemain, Jacques retourna dans les villages pour annoncer sa victoire à ses habitants. Ils étaient ravis de son retour sain et sauf, et ils le célébrèrent en lui offrant des couronnes et des remerciements. Jacques accepta avec modestie, savourant chaque instant de cette gloire momentanée. Il avait sauvé les villages du dragon, et il savait qu'il avait accompli une tâche importante.\n"
     ]
    }
   ],
   "source": [
    "# Test de la fonction generate_story\n",
    "prompt = \"Il était une fois un chevalier qui combattait un dragon...\"\n",
    "generate_story = generate_story(prompt, max_length=200)\n",
    "\n",
    "# Afficher le résultat\n",
    "print(\"Histoire générée :\")\n",
    "print(generate_story)"
   ]
  },
  {
   "cell_type": "code",
   "execution_count": 12,
   "metadata": {},
   "outputs": [
    {
     "ename": "TypeError",
     "evalue": "enumerate() missing required argument 'iterable'",
     "output_type": "error",
     "traceback": [
      "\u001b[0;31m---------------------------------------------------------------------------\u001b[0m",
      "\u001b[0;31mTypeError\u001b[0m                                 Traceback (most recent call last)",
      "Cell \u001b[0;32mIn[12], line 3\u001b[0m\n\u001b[1;32m      1\u001b[0m \u001b[38;5;28;01mfrom\u001b[39;00m \u001b[38;5;21;01mIPython\u001b[39;00m\u001b[38;5;21;01m.\u001b[39;00m\u001b[38;5;21;01mdisplay\u001b[39;00m \u001b[38;5;28;01mimport\u001b[39;00m display, Markdown\n\u001b[0;32m----> 3\u001b[0m \u001b[38;5;28;01mfor\u001b[39;00m i, prompt \u001b[38;5;129;01min\u001b[39;00m \u001b[38;5;28menumerate\u001b[39m():\n\u001b[1;32m      4\u001b[0m     story \u001b[38;5;241m=\u001b[39m generate_story(prompt, max_length\u001b[38;5;241m=\u001b[39m\u001b[38;5;241m200\u001b[39m)\n\u001b[1;32m      5\u001b[0m     display(Markdown(\u001b[38;5;124mf\u001b[39m\u001b[38;5;124m\"\u001b[39m\u001b[38;5;124m## Prompt \u001b[39m\u001b[38;5;132;01m{\u001b[39;00mi\u001b[38;5;241m+\u001b[39m\u001b[38;5;241m1\u001b[39m\u001b[38;5;132;01m}\u001b[39;00m\u001b[38;5;124m\"\u001b[39m))\n",
      "\u001b[0;31mTypeError\u001b[0m: enumerate() missing required argument 'iterable'"
     ]
    }
   ],
   "source": [
    "# from IPython.display import display, Markdown\n",
    "\n",
    "# for i, prompt in enumerate():\n",
    "#     story = generate_story(prompt, max_length=200)\n",
    "#     display(Markdown(f\"## Prompt {i+1}\"))\n",
    "#     display(Markdown(f\"```\\n{prompt}\\n```\"))\n",
    "#     display(Markdown(f\"## Histoire générée :\"))\n",
    "#     display(Markdown(f\"```\\n{story}\\n```\"))"
   ]
  }
 ],
 "metadata": {
  "kernelspec": {
   "display_name": "venv",
   "language": "python",
   "name": "python3"
  },
  "language_info": {
   "codemirror_mode": {
    "name": "ipython",
    "version": 3
   },
   "file_extension": ".py",
   "mimetype": "text/x-python",
   "name": "python",
   "nbconvert_exporter": "python",
   "pygments_lexer": "ipython3",
   "version": "3.12.2"
  }
 },
 "nbformat": 4,
 "nbformat_minor": 2
}
